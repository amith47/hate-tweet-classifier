{
 "cells": [
  {
   "cell_type": "markdown",
   "id": "4823fe66",
   "metadata": {},
   "source": [
    "# Hate Tweet Classification\n",
    "\n",
    "This notebook demonstrates text cleaning, feature engineering (Bag-of-Words, TF-IDF, BERT, Universal Sentence Encoder), and ML model comparison for hate tweet classification."
   ]
  }
 ],
 "metadata": {
  "language_info": {
   "name": "python"
  }
 },
 "nbformat": 4,
 "nbformat_minor": 5
}
